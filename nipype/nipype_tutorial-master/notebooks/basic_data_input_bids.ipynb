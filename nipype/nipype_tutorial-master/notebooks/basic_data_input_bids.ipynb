{
 "cells": [
  {
   "cell_type": "markdown",
   "metadata": {
    "deletable": true,
    "editable": true
   },
   "source": [
    "## Data input for BIDS datasets\n",
    "`DataGrabber` and `SelectFiles` are great if you are dealing with generic datasets with arbitrary organization. However if you have decided to use Brain Imaging Data Structure (BIDS) to organized your data (or got your hands on a BIDS dataset) you can take advanted of a formal structure BIDS imposes. In this short tutorial you will learn how to do this."
   ]
  },
  {
   "cell_type": "markdown",
   "metadata": {
    "deletable": true,
    "editable": true
   },
   "source": [
    "## `pybids` - a Python API for working with BIDS datasets\n",
    "`pybids` is a lightweight python API for querying BIDS folder structure for specific files and metadata. You can install it from PyPi:\n",
    "```\n",
    "pip install pybids\n",
    "```\n",
    "Please note it should be already installed in the tutorial Docker image."
   ]
  },
  {
   "cell_type": "markdown",
   "metadata": {
    "deletable": true,
    "editable": true
   },
   "source": [
    "## The `layout` object and simple queries\n",
    "To begin working with pubids we need to initalize a layout object. We will need it to do all of our queries"
   ]
  },
  {
   "cell_type": "code",
   "execution_count": 1,
   "metadata": {
    "collapsed": true,
    "deletable": true,
    "editable": true
   },
   "outputs": [],
   "source": [
    "from bids.grabbids import BIDSLayout\n",
    "layout = BIDSLayout(\"/data/ds102/\")"
   ]
  },
  {
   "cell_type": "code",
   "execution_count": 2,
   "metadata": {
    "collapsed": false
   },
   "outputs": [
    {
     "name": "stdout",
     "output_type": "stream",
     "text": [
      "/data/ds102/\r\n",
      "├── CHANGES\r\n",
      "├── dataset_description.json\r\n",
      "├── participants.tsv\r\n",
      "├── README\r\n",
      "├── sub-01\r\n",
      "│   ├── anat\r\n",
      "│   │   └── sub-01_T1w.nii.gz\r\n",
      "│   └── func\r\n",
      "│       ├── sub-01_task-flanker_run-1_bold.nii.gz\r\n",
      "│       ├── sub-01_task-flanker_run-1_events.tsv\r\n",
      "│       ├── sub-01_task-flanker_run-2_bold.nii.gz\r\n",
      "│       └── sub-01_task-flanker_run-2_events.tsv\r\n",
      "├── sub-02\r\n",
      "│   ├── anat\r\n",
      "│   │   └── sub-02_T1w.nii.gz\r\n",
      "│   └── func\r\n",
      "│       ├── sub-02_task-flanker_run-1_bold.nii.gz\r\n",
      "│       ├── sub-02_task-flanker_run-1_events.tsv\r\n",
      "│       ├── sub-02_task-flanker_run-2_bold.nii.gz\r\n",
      "│       └── sub-02_task-flanker_run-2_events.tsv\r\n",
      "├── sub-03\r\n",
      "│   ├── anat\r\n",
      "│   │   └── sub-03_T1w.nii.gz\r\n",
      "│   └── func\r\n",
      "│       ├── sub-03_task-flanker_run-1_bold.nii.gz\r\n",
      "│       ├── sub-03_task-flanker_run-1_events.tsv\r\n",
      "│       ├── sub-03_task-flanker_run-2_bold.nii.gz\r\n",
      "│       └── sub-03_task-flanker_run-2_events.tsv\r\n",
      "├── sub-04\r\n",
      "│   ├── anat\r\n",
      "│   │   └── sub-04_T1w.nii.gz\r\n",
      "│   └── func\r\n",
      "│       ├── sub-04_task-flanker_run-1_bold.nii.gz\r\n",
      "│       ├── sub-04_task-flanker_run-1_events.tsv\r\n",
      "│       ├── sub-04_task-flanker_run-2_bold.nii.gz\r\n",
      "│       └── sub-04_task-flanker_run-2_events.tsv\r\n",
      "├── sub-05\r\n",
      "│   ├── anat\r\n",
      "│   │   └── sub-05_T1w.nii.gz\r\n",
      "│   └── func\r\n",
      "│       ├── sub-05_task-flanker_run-1_bold.nii.gz\r\n",
      "│       ├── sub-05_task-flanker_run-1_events.tsv\r\n",
      "│       ├── sub-05_task-flanker_run-2_bold.nii.gz\r\n",
      "│       └── sub-05_task-flanker_run-2_events.tsv\r\n",
      "├── T1w.json\r\n",
      "└── task-flanker_bold.json\r\n",
      "\r\n",
      "15 directories, 31 files\r\n"
     ]
    }
   ],
   "source": [
    "!tree /data/ds102/"
   ]
  },
  {
   "cell_type": "markdown",
   "metadata": {
    "collapsed": false,
    "deletable": true,
    "editable": true
   },
   "source": [
    "Let's figure out what are the subject labels in this dataset"
   ]
  },
  {
   "cell_type": "code",
   "execution_count": 3,
   "metadata": {
    "collapsed": false,
    "deletable": true,
    "editable": true
   },
   "outputs": [
    {
     "data": {
      "text/plain": [
       "['01', '02', '03', '04', '05']"
      ]
     },
     "execution_count": 3,
     "metadata": {},
     "output_type": "execute_result"
    }
   ],
   "source": [
    "layout.get_subjects()"
   ]
  },
  {
   "cell_type": "markdown",
   "metadata": {
    "deletable": true,
    "editable": true
   },
   "source": [
    "What modalities are included in this dataset?"
   ]
  },
  {
   "cell_type": "code",
   "execution_count": 4,
   "metadata": {
    "collapsed": false,
    "deletable": true,
    "editable": true
   },
   "outputs": [
    {
     "data": {
      "text/plain": [
       "['anat', 'func']"
      ]
     },
     "execution_count": 4,
     "metadata": {},
     "output_type": "execute_result"
    }
   ],
   "source": [
    "layout.get_modalities()"
   ]
  },
  {
   "cell_type": "markdown",
   "metadata": {
    "deletable": true,
    "editable": true
   },
   "source": [
    "What different data types are included in this dataset?"
   ]
  },
  {
   "cell_type": "code",
   "execution_count": 5,
   "metadata": {
    "collapsed": false,
    "deletable": true,
    "editable": true
   },
   "outputs": [
    {
     "data": {
      "text/plain": [
       "['bold', 'events', 'T1w']"
      ]
     },
     "execution_count": 5,
     "metadata": {},
     "output_type": "execute_result"
    }
   ],
   "source": [
    "layout.get_types()"
   ]
  },
  {
   "cell_type": "code",
   "execution_count": 6,
   "metadata": {
    "collapsed": false,
    "deletable": true,
    "editable": true
   },
   "outputs": [
    {
     "data": {
      "text/plain": [
       "['bold', 'events']"
      ]
     },
     "execution_count": 6,
     "metadata": {},
     "output_type": "execute_result"
    }
   ],
   "source": [
    "layout.get_types(modality='func')"
   ]
  },
  {
   "cell_type": "markdown",
   "metadata": {
    "deletable": true,
    "editable": true
   },
   "source": [
    "What are the different tasks included in this dataset?"
   ]
  },
  {
   "cell_type": "code",
   "execution_count": 7,
   "metadata": {
    "collapsed": false,
    "deletable": true,
    "editable": true
   },
   "outputs": [
    {
     "data": {
      "text/plain": [
       "['flanker']"
      ]
     },
     "execution_count": 7,
     "metadata": {},
     "output_type": "execute_result"
    }
   ],
   "source": [
    "layout.get_tasks()"
   ]
  },
  {
   "cell_type": "markdown",
   "metadata": {
    "deletable": true,
    "editable": true
   },
   "source": [
    "We can also ask for all of the data for a particular subject."
   ]
  },
  {
   "cell_type": "code",
   "execution_count": 8,
   "metadata": {
    "collapsed": false,
    "deletable": true,
    "editable": true
   },
   "outputs": [
    {
     "data": {
      "text/plain": [
       "[File(filename='/data/ds102/sub-01/anat/sub-01_T1w.nii.gz', type='T1w', modality='anat', subject='01'),\n",
       " File(filename='/data/ds102/sub-01/func/sub-01_task-flanker_run-1_bold.nii.gz', type='bold', task='flanker', run='1', modality='func', subject='01'),\n",
       " File(filename='/data/ds102/sub-01/func/sub-01_task-flanker_run-1_events.tsv', type='events', task='flanker', run='1', modality='func', subject='01'),\n",
       " File(filename='/data/ds102/sub-01/func/sub-01_task-flanker_run-2_bold.nii.gz', type='bold', task='flanker', run='2', modality='func', subject='01'),\n",
       " File(filename='/data/ds102/sub-01/func/sub-01_task-flanker_run-2_events.tsv', type='events', task='flanker', run='2', modality='func', subject='01')]"
      ]
     },
     "execution_count": 8,
     "metadata": {},
     "output_type": "execute_result"
    }
   ],
   "source": [
    "layout.get(subject='01')"
   ]
  },
  {
   "cell_type": "markdown",
   "metadata": {
    "deletable": true,
    "editable": true
   },
   "source": [
    "We can also ask for a specific subset of data. Note that we are using extension filter to get just the imaging data (BIDS allows both .nii and .nii.gz so we need to include both)."
   ]
  },
  {
   "cell_type": "code",
   "execution_count": 9,
   "metadata": {
    "collapsed": false,
    "deletable": true,
    "editable": true
   },
   "outputs": [
    {
     "data": {
      "text/plain": [
       "[File(filename='/data/ds102/sub-01/func/sub-01_task-flanker_run-1_bold.nii.gz', type='bold', task='flanker', run='1', modality='func', subject='01'),\n",
       " File(filename='/data/ds102/sub-01/func/sub-01_task-flanker_run-2_bold.nii.gz', type='bold', task='flanker', run='2', modality='func', subject='01')]"
      ]
     },
     "execution_count": 9,
     "metadata": {},
     "output_type": "execute_result"
    }
   ],
   "source": [
    "layout.get(subject='01', type='bold', extensions=['nii', 'nii.gz'])"
   ]
  },
  {
   "cell_type": "markdown",
   "metadata": {
    "deletable": true,
    "editable": true
   },
   "source": [
    "You probably noticed that this method does not only return the file paths, but objects with relevant query fields. We can easily extract just the file paths."
   ]
  },
  {
   "cell_type": "code",
   "execution_count": 10,
   "metadata": {
    "collapsed": false,
    "deletable": true,
    "editable": true
   },
   "outputs": [
    {
     "data": {
      "text/plain": [
       "['/data/ds102/sub-01/anat/sub-01_T1w.nii.gz']"
      ]
     },
     "execution_count": 10,
     "metadata": {},
     "output_type": "execute_result"
    }
   ],
   "source": [
    "[f.filename for f in layout.get(subject='01', type='T1w', extensions=['nii', 'nii.gz'])]"
   ]
  },
  {
   "cell_type": "markdown",
   "metadata": {},
   "source": [
    "### Exercise 1:\n",
    "List all of the BOLD files for flanker task for subject 03, but only from the second run"
   ]
  },
  {
   "cell_type": "markdown",
   "metadata": {
    "deletable": true,
    "editable": true
   },
   "source": [
    "## Including `pybids` in your `nipype` workflow\n",
    "This is great, but what we really want is to include this into our `nipype` workflows. How to do this? We can create our own custom `BIDSDataGrabber` using a `Function` Interface. First we need a plain Python function that for a given subject label and dataset location will return list of BOLD and T1w files."
   ]
  },
  {
   "cell_type": "code",
   "execution_count": 11,
   "metadata": {
    "collapsed": false,
    "deletable": true,
    "editable": true
   },
   "outputs": [],
   "source": [
    "def get_niftis(subject_id, data_dir):\n",
    "    # Remember that all the necesary imports need to be INSIDE the function for the Function Interface to work!\n",
    "    from bids.grabbids import BIDSLayout\n",
    "    \n",
    "    layout = BIDSLayout(data_dir)\n",
    "    \n",
    "    bolds = [f.filename for f in layout.get(subject=subject_id, type='bold', extensions=['nii', 'nii.gz'])]\n",
    "    \n",
    "    return bolds"
   ]
  },
  {
   "cell_type": "code",
   "execution_count": 12,
   "metadata": {
    "collapsed": false,
    "deletable": true,
    "editable": true
   },
   "outputs": [
    {
     "data": {
      "text/plain": [
       "['/data/ds102/sub-01/func/sub-01_task-flanker_run-1_bold.nii.gz',\n",
       " '/data/ds102/sub-01/func/sub-01_task-flanker_run-2_bold.nii.gz']"
      ]
     },
     "execution_count": 12,
     "metadata": {},
     "output_type": "execute_result"
    }
   ],
   "source": [
    "get_niftis('01', '/data/ds102')"
   ]
  },
  {
   "cell_type": "markdown",
   "metadata": {
    "deletable": true,
    "editable": true
   },
   "source": [
    "Ok we got our function. Now we need to wrap it inside a Node object."
   ]
  },
  {
   "cell_type": "code",
   "execution_count": 13,
   "metadata": {
    "collapsed": true,
    "deletable": true,
    "editable": true
   },
   "outputs": [],
   "source": [
    "from nipype.pipeline import Node, MapNode, Workflow\n",
    "from nipype.interfaces.utility import IdentityInterface, Function"
   ]
  },
  {
   "cell_type": "code",
   "execution_count": 14,
   "metadata": {
    "collapsed": false,
    "deletable": true,
    "editable": true
   },
   "outputs": [],
   "source": [
    "BIDSDataGrabber = Node(Function(function=get_niftis, input_names=[\"subject_id\",\n",
    "                                       \"data_dir\"],\n",
    "                                   output_names=[\"bolds\", \n",
    "                                        \"T1ws\"]), name=\"BIDSDataGrabber\")\n",
    "BIDSDataGrabber.inputs.data_dir = \"/data/ds102\""
   ]
  },
  {
   "cell_type": "code",
   "execution_count": 15,
   "metadata": {
    "collapsed": false,
    "deletable": true,
    "editable": true
   },
   "outputs": [
    {
     "name": "stdout",
     "output_type": "stream",
     "text": [
      "170325-00:11:17,133 workflow INFO:\n",
      "\t Executing node BIDSDataGrabber in dir: /tmp/tmpIvJ0lL/BIDSDataGrabber\n"
     ]
    },
    {
     "data": {
      "text/plain": [
       "\n",
       "T1ws = /data/ds102/sub-01/func/sub-01_task-flanker_run-2_bold.nii.gz\n",
       "bolds = /data/ds102/sub-01/func/sub-01_task-flanker_run-1_bold.nii.gz"
      ]
     },
     "execution_count": 15,
     "metadata": {},
     "output_type": "execute_result"
    }
   ],
   "source": [
    "BIDSDataGrabber.inputs.subject_id='01'\n",
    "res = BIDSDataGrabber.run()\n",
    "res.outputs"
   ]
  },
  {
   "cell_type": "markdown",
   "metadata": {
    "deletable": true,
    "editable": true
   },
   "source": [
    "Works like a charm! (hopefully :) Lets put it in a workflow. We are not going to analyze any data, but for demostrantion purposes we will add a couple of nodes that pretend to analyze their inputs"
   ]
  },
  {
   "cell_type": "code",
   "execution_count": 16,
   "metadata": {
    "collapsed": false,
    "deletable": true,
    "editable": true
   },
   "outputs": [],
   "source": [
    "def printMe(paths):\n",
    "    print(\"\\n\\nanalyzing \" + str(paths) + \"\\n\\n\")\n",
    "    \n",
    "analyzeBOLD = Node(Function(function=printMe, input_names=[\"paths\"],\n",
    "                            output_names=[]), name=\"analyzeBOLD\")"
   ]
  },
  {
   "cell_type": "code",
   "execution_count": 17,
   "metadata": {
    "collapsed": false,
    "deletable": true,
    "editable": true,
    "scrolled": true
   },
   "outputs": [
    {
     "name": "stdout",
     "output_type": "stream",
     "text": [
      "170325-00:11:17,378 workflow INFO:\n",
      "\t Workflow bids_demo settings: ['check', 'execution', 'logging']\n",
      "170325-00:11:17,610 workflow INFO:\n",
      "\t Running serially.\n",
      "170325-00:11:17,612 workflow INFO:\n",
      "\t Executing node BIDSDataGrabber in dir: /tmp/tmpgVOH_Z/bids_demo/BIDSDataGrabber\n",
      "170325-00:11:17,676 workflow INFO:\n",
      "\t Executing node analyzeBOLD in dir: /tmp/tmpoesKqC/bids_demo/analyzeBOLD\n",
      "\n",
      "\n",
      "analyzing /data/ds102/sub-01/func/sub-01_task-flanker_run-1_bold.nii.gz\n",
      "\n",
      "\n"
     ]
    },
    {
     "data": {
      "text/plain": [
       "<networkx.classes.digraph.DiGraph at 0x7efda2cc9a10>"
      ]
     },
     "execution_count": 17,
     "metadata": {},
     "output_type": "execute_result"
    }
   ],
   "source": [
    "wf = Workflow(name=\"bids_demo\")\n",
    "wf.connect(BIDSDataGrabber, \"bolds\", analyzeBOLD, \"paths\")\n",
    "wf.run()"
   ]
  },
  {
   "cell_type": "markdown",
   "metadata": {},
   "source": [
    "### Exercise 2:\n",
    "Modify the `BIDSDataGrabber` and the workflow to include T1ws."
   ]
  },
  {
   "cell_type": "markdown",
   "metadata": {
    "deletable": true,
    "editable": true
   },
   "source": [
    "## Iterating over subject labels\n",
    "In the previous example we demostrated how to use `pybids` to \"analyze\" one subject. How can we scale it for all subjects? Easy - using `iterables`."
   ]
  },
  {
   "cell_type": "code",
   "execution_count": 18,
   "metadata": {
    "collapsed": false,
    "deletable": true,
    "editable": true,
    "scrolled": false
   },
   "outputs": [
    {
     "name": "stdout",
     "output_type": "stream",
     "text": [
      "170325-00:11:17,770 workflow INFO:\n",
      "\t Workflow bids_demo settings: ['check', 'execution', 'logging']\n",
      "170325-00:11:17,973 workflow INFO:\n",
      "\t Running serially.\n",
      "170325-00:11:17,977 workflow INFO:\n",
      "\t Executing node BIDSDataGrabber.aI.a0 in dir: /tmp/tmppeNgld/bids_demo/_subject_id_01/BIDSDataGrabber\n",
      "170325-00:11:18,55 workflow INFO:\n",
      "\t Executing node analyzeBOLD.a0 in dir: /tmp/tmpQkxaL3/bids_demo/_subject_id_01/analyzeBOLD\n",
      "\n",
      "\n",
      "analyzing /data/ds102/sub-01/func/sub-01_task-flanker_run-1_bold.nii.gz\n",
      "\n",
      "\n",
      "170325-00:11:18,128 workflow INFO:\n",
      "\t Executing node BIDSDataGrabber.aI.a4 in dir: /tmp/tmpZ3qzlP/bids_demo/_subject_id_05/BIDSDataGrabber\n",
      "170325-00:11:18,220 workflow INFO:\n",
      "\t Executing node BIDSDataGrabber.aI.a3 in dir: /tmp/tmpXC27i8/bids_demo/_subject_id_04/BIDSDataGrabber\n",
      "170325-00:11:18,307 workflow INFO:\n",
      "\t Executing node analyzeBOLD.a3 in dir: /tmp/tmp1lKN4t/bids_demo/_subject_id_04/analyzeBOLD\n",
      "\n",
      "\n",
      "analyzing /data/ds102/sub-04/func/sub-04_task-flanker_run-1_bold.nii.gz\n",
      "\n",
      "\n",
      "170325-00:11:18,355 workflow INFO:\n",
      "\t Executing node BIDSDataGrabber.aI.a1 in dir: /tmp/tmpMNKmQZ/bids_demo/_subject_id_02/BIDSDataGrabber\n",
      "170325-00:11:18,448 workflow INFO:\n",
      "\t Executing node analyzeBOLD.a1 in dir: /tmp/tmpFEgJeg/bids_demo/_subject_id_02/analyzeBOLD\n",
      "\n",
      "\n",
      "analyzing /data/ds102/sub-02/func/sub-02_task-flanker_run-1_bold.nii.gz\n",
      "\n",
      "\n",
      "170325-00:11:18,512 workflow INFO:\n",
      "\t Executing node BIDSDataGrabber.aI.a2 in dir: /tmp/tmpp4stHi/bids_demo/_subject_id_03/BIDSDataGrabber\n",
      "170325-00:11:18,617 workflow INFO:\n",
      "\t Executing node analyzeBOLD.a2 in dir: /tmp/tmpVxCtOX/bids_demo/_subject_id_03/analyzeBOLD\n",
      "\n",
      "\n",
      "analyzing /data/ds102/sub-03/func/sub-03_task-flanker_run-1_bold.nii.gz\n",
      "\n",
      "\n",
      "170325-00:11:18,673 workflow INFO:\n",
      "\t Executing node analyzeBOLD.a4 in dir: /tmp/tmpZkO66V/bids_demo/_subject_id_05/analyzeBOLD\n",
      "\n",
      "\n",
      "analyzing /data/ds102/sub-05/func/sub-05_task-flanker_run-1_bold.nii.gz\n",
      "\n",
      "\n"
     ]
    },
    {
     "data": {
      "text/plain": [
       "<networkx.classes.digraph.DiGraph at 0x7efda2d5c4d0>"
      ]
     },
     "execution_count": 18,
     "metadata": {},
     "output_type": "execute_result"
    }
   ],
   "source": [
    "BIDSDataGrabber.iterables = ('subject_id', layout.get_subjects())\n",
    "wf.run()"
   ]
  },
  {
   "cell_type": "markdown",
   "metadata": {
    "deletable": true,
    "editable": true
   },
   "source": [
    "## Accessing additional metadata\n",
    "Querying different files is nice, but sometimes you want to access more metadata. For example `RepetitionTime`. `pybids` can help with that as well"
   ]
  },
  {
   "cell_type": "code",
   "execution_count": 19,
   "metadata": {
    "collapsed": false,
    "deletable": true,
    "editable": true
   },
   "outputs": [
    {
     "data": {
      "text/plain": [
       "{u'CogAtlasID': u'tsk_4a57abb949a4f',\n",
       " u'EchoTime': 0.03,\n",
       " u'FlipAngle': 80.0,\n",
       " u'MRAcquisitionType': u'2D',\n",
       " u'MagneticFieldStrength': 3.0,\n",
       " u'Manufacturer': u'Siemens',\n",
       " u'ManufacturerModelName': u'Allegra',\n",
       " u'RepetitionTime': 2.0,\n",
       " u'ScanningSequence': u'Echo Planar',\n",
       " u'TaskDescription': u'On each trial (inter-trial interval (ITI) varied between 8 s and 14 s; mean ITI=12 s),participants used one of two buttons on a response pad to indicate the direction of a central arrow in an array of 5 arrows. In congruent trials the flanking arrows pointed in the same direction as the central arrow (e.g., < < < < <), while in more demanding incongruent trials the flanking arrows pointed in the opposite direction (e.g., < < > < <). Subjects performed two 5-minute blocks, each containing 12 congruent and 12 incongruent trials, presented in a pseudorandom order.',\n",
       " u'TaskName': u'Flanker'}"
      ]
     },
     "execution_count": 19,
     "metadata": {},
     "output_type": "execute_result"
    }
   ],
   "source": [
    "layout.get_metadata('/data/ds102/sub-01/func/sub-01_task-flanker_run-1_bold.nii.gz')"
   ]
  },
  {
   "cell_type": "markdown",
   "metadata": {
    "deletable": true,
    "editable": true
   },
   "source": [
    "Can we incorporate this into our pipeline? Yes we can!"
   ]
  },
  {
   "cell_type": "code",
   "execution_count": 20,
   "metadata": {
    "collapsed": true,
    "deletable": true,
    "editable": true
   },
   "outputs": [],
   "source": [
    "def printMetadata(path, data_dir):\n",
    "    from bids.grabbids import BIDSLayout\n",
    "    layout = BIDSLayout(data_dir)\n",
    "    print(\"\\n\\nanalyzing \" + path + \"\\nTR: \"+ str(layout.get_metadata(path)[\"RepetitionTime\"]) + \"\\n\\n\")\n",
    "    \n",
    "analyzeBOLD2 = MapNode(Function(function=printMetadata, input_names=[\"path\", \"data_dir\"],\n",
    "                             output_names=[]), name=\"analyzeBOLD2\", iterfield=\"path\")\n",
    "analyzeBOLD2.inputs.data_dir = \"/data/ds102/\""
   ]
  },
  {
   "cell_type": "code",
   "execution_count": 21,
   "metadata": {
    "collapsed": false,
    "deletable": true,
    "editable": true,
    "scrolled": false
   },
   "outputs": [
    {
     "name": "stdout",
     "output_type": "stream",
     "text": [
      "170325-00:11:18,852 workflow INFO:\n",
      "\t Workflow bids_demo settings: ['check', 'execution', 'logging']\n",
      "170325-00:11:19,95 workflow INFO:\n",
      "\t Running serially.\n",
      "170325-00:11:19,98 workflow INFO:\n",
      "\t Executing node BIDSDataGrabber.aI.a4 in dir: /tmp/tmpQWOjgy/bids_demo/_subject_id_05/BIDSDataGrabber\n",
      "170325-00:11:19,212 workflow INFO:\n",
      "\t Executing node analyzeBOLD2.a4 in dir: /tmp/tmpcTFJM5/bids_demo/_subject_id_05/analyzeBOLD2\n",
      "170325-00:11:19,227 workflow INFO:\n",
      "\t Executing node _analyzeBOLD20 in dir: /tmp/tmpcTFJM5/bids_demo/_subject_id_05/analyzeBOLD2/mapflow/_analyzeBOLD20\n",
      "\n",
      "\n",
      "analyzing /data/ds102/sub-05/func/sub-05_task-flanker_run-1_bold.nii.gz\n",
      "TR: 2.0\n",
      "\n",
      "\n",
      "170325-00:11:19,340 workflow INFO:\n",
      "\t Executing node BIDSDataGrabber.aI.a0 in dir: /tmp/tmpGppMhP/bids_demo/_subject_id_01/BIDSDataGrabber\n",
      "170325-00:11:19,433 workflow INFO:\n",
      "\t Executing node analyzeBOLD2.a0 in dir: /tmp/tmp6MPMHH/bids_demo/_subject_id_01/analyzeBOLD2\n",
      "170325-00:11:19,451 workflow INFO:\n",
      "\t Executing node _analyzeBOLD20 in dir: /tmp/tmp6MPMHH/bids_demo/_subject_id_01/analyzeBOLD2/mapflow/_analyzeBOLD20\n",
      "\n",
      "\n",
      "analyzing /data/ds102/sub-01/func/sub-01_task-flanker_run-1_bold.nii.gz\n",
      "TR: 2.0\n",
      "\n",
      "\n",
      "170325-00:11:19,518 workflow INFO:\n",
      "\t Executing node BIDSDataGrabber.aI.a2 in dir: /tmp/tmpfEjhs6/bids_demo/_subject_id_03/BIDSDataGrabber\n",
      "170325-00:11:19,603 workflow INFO:\n",
      "\t Executing node BIDSDataGrabber.aI.a1 in dir: /tmp/tmpCfSsJs/bids_demo/_subject_id_02/BIDSDataGrabber\n",
      "170325-00:11:19,684 workflow INFO:\n",
      "\t Executing node analyzeBOLD2.a1 in dir: /tmp/tmpmdEi5m/bids_demo/_subject_id_02/analyzeBOLD2\n",
      "170325-00:11:19,720 workflow INFO:\n",
      "\t Executing node _analyzeBOLD20 in dir: /tmp/tmpmdEi5m/bids_demo/_subject_id_02/analyzeBOLD2/mapflow/_analyzeBOLD20\n",
      "\n",
      "\n",
      "analyzing /data/ds102/sub-02/func/sub-02_task-flanker_run-1_bold.nii.gz\n",
      "TR: 2.0\n",
      "\n",
      "\n",
      "170325-00:11:19,798 workflow INFO:\n",
      "\t Executing node analyzeBOLD2.a2 in dir: /tmp/tmpUL2soh/bids_demo/_subject_id_03/analyzeBOLD2\n",
      "170325-00:11:19,825 workflow INFO:\n",
      "\t Executing node _analyzeBOLD20 in dir: /tmp/tmpUL2soh/bids_demo/_subject_id_03/analyzeBOLD2/mapflow/_analyzeBOLD20\n",
      "\n",
      "\n",
      "analyzing /data/ds102/sub-03/func/sub-03_task-flanker_run-1_bold.nii.gz\n",
      "TR: 2.0\n",
      "\n",
      "\n",
      "170325-00:11:19,911 workflow INFO:\n",
      "\t Executing node BIDSDataGrabber.aI.a3 in dir: /tmp/tmpREkFNf/bids_demo/_subject_id_04/BIDSDataGrabber\n",
      "170325-00:11:20,3 workflow INFO:\n",
      "\t Executing node analyzeBOLD2.a3 in dir: /tmp/tmpePChTv/bids_demo/_subject_id_04/analyzeBOLD2\n",
      "170325-00:11:20,42 workflow INFO:\n",
      "\t Executing node _analyzeBOLD20 in dir: /tmp/tmpePChTv/bids_demo/_subject_id_04/analyzeBOLD2/mapflow/_analyzeBOLD20\n",
      "\n",
      "\n",
      "analyzing /data/ds102/sub-04/func/sub-04_task-flanker_run-1_bold.nii.gz\n",
      "TR: 2.0\n",
      "\n",
      "\n"
     ]
    },
    {
     "data": {
      "text/plain": [
       "<networkx.classes.digraph.DiGraph at 0x7efda2cc9d50>"
      ]
     },
     "execution_count": 21,
     "metadata": {},
     "output_type": "execute_result"
    }
   ],
   "source": [
    "wf = Workflow(name=\"bids_demo\")\n",
    "wf.connect(BIDSDataGrabber, \"bolds\", analyzeBOLD2, \"path\")\n",
    "wf.run()"
   ]
  },
  {
   "cell_type": "markdown",
   "metadata": {},
   "source": [
    "### Exercise 3:\n",
    "Modify the `printMetadata` function to also print `EchoTime` "
   ]
  }
 ],
 "metadata": {
  "kernelspec": {
   "display_name": "Python [default]",
   "language": "python",
   "name": "python2"
  },
  "language_info": {
   "codemirror_mode": {
    "name": "ipython",
    "version": 2
   },
   "file_extension": ".py",
   "mimetype": "text/x-python",
   "name": "python",
   "nbconvert_exporter": "python",
   "pygments_lexer": "ipython2",
   "version": "2.7.12"
  }
 },
 "nbformat": 4,
 "nbformat_minor": 2
}
