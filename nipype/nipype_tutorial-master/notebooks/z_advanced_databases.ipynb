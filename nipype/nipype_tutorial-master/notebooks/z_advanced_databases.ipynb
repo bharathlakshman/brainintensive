{
 "cells": [
  {
   "cell_type": "markdown",
   "metadata": {},
   "source": [
    "https://github.com/nipy/nipype/blob/master/examples/fmri_ants_openfmri.py"
   ]
  },
  {
   "cell_type": "code",
   "execution_count": null,
   "metadata": {
    "collapsed": true
   },
   "outputs": [],
   "source": []
  },
  {
   "cell_type": "markdown",
   "metadata": {},
   "source": [
    "# Step 9: Connecting to Databases"
   ]
  },
  {
   "cell_type": "code",
   "execution_count": null,
   "metadata": {
    "collapsed": true
   },
   "outputs": [],
   "source": [
    "from os.path import abspath as opap\n",
    "\n",
    "from nipype.interfaces.io import XNATSource\n",
    "from nipype.pipeline.engine import Node, Workflow\n",
    "from nipype.interfaces.fsl import BET\n",
    "\n",
    "subject_id = 'xnat_S00001'\n",
    "\n",
    "dg = Node(XNATSource(infields=['subject_id'],\n",
    "                     outfields=['struct'],\n",
    "                     config='/Users/satra/xnat_configs/nitrc_ir_config'),\n",
    "          name='xnatsource')\n",
    "dg.inputs.query_template = ('/projects/fcon_1000/subjects/%s/experiments/xnat_E00001'\n",
    "                            '/scans/%s/resources/NIfTI/files')\n",
    "dg.inputs.query_template_args['struct'] = [['subject_id', 'anat_mprage_anonymized']]\n",
    "dg.inputs.subject_id = subject_id\n",
    "\n",
    "bet = Node(BET(), name='skull_stripper')\n",
    "\n",
    "wf = Workflow(name='testxnat')\n",
    "wf.base_dir = opap('xnattest')\n",
    "wf.connect(dg, 'struct', bet, 'in_file')"
   ]
  },
  {
   "cell_type": "code",
   "execution_count": null,
   "metadata": {
    "collapsed": true
   },
   "outputs": [],
   "source": [
    "from nipype.interfaces.io import XNATSink\n",
    "\n",
    "ds = Node(XNATSink(config='/Users/satra/xnat_configs/central_config'),\n",
    "          name='xnatsink')\n",
    "ds.inputs.project_id = 'NPTEST'\n",
    "ds.inputs.subject_id = 'NPTEST_xnat_S00001'\n",
    "ds.inputs.experiment_id = 'test_xnat'\n",
    "ds.inputs.reconstruction_id = 'bet'\n",
    "ds.inputs.share = True\n",
    "wf.connect(bet, 'out_file', ds, 'brain')"
   ]
  }
 ],
 "metadata": {
  "anaconda-cloud": {},
  "kernelspec": {
   "display_name": "Python [conda root]",
   "language": "python",
   "name": "conda-root-py"
  },
  "language_info": {
   "codemirror_mode": {
    "name": "ipython",
    "version": 2
   },
   "file_extension": ".py",
   "mimetype": "text/x-python",
   "name": "python",
   "nbconvert_exporter": "python",
   "pygments_lexer": "ipython2",
   "version": "2.7.13"
  }
 },
 "nbformat": 4,
 "nbformat_minor": 0
}
