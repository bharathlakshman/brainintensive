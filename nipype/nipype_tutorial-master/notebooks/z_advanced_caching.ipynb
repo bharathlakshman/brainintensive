{
 "cells": [
  {
   "cell_type": "markdown",
   "metadata": {},
   "source": [
    "http://nipype.readthedocs.io/en/latest/users/caching_tutorial.html"
   ]
  },
  {
   "cell_type": "markdown",
   "metadata": {},
   "source": [
    "# Nipype caching"
   ]
  },
  {
   "cell_type": "code",
   "execution_count": null,
   "metadata": {
    "collapsed": true
   },
   "outputs": [],
   "source": [
    "from nipype.caching import Memory\n",
    "mem = Memory('.')"
   ]
  },
  {
   "cell_type": "markdown",
   "metadata": {},
   "source": [
    "### Create `cacheable` objects"
   ]
  },
  {
   "cell_type": "code",
   "execution_count": null,
   "metadata": {
    "collapsed": true
   },
   "outputs": [],
   "source": [
    "from nipype.interfaces.spm import Realign\n",
    "from nipype.interfaces.fsl import MCFLIRT\n",
    "\n",
    "spm_realign = mem.cache(Realign)\n",
    "fsl_realign = mem.cache(MCFLIRT)"
   ]
  },
  {
   "cell_type": "markdown",
   "metadata": {},
   "source": [
    "### Execute interfaces"
   ]
  },
  {
   "cell_type": "code",
   "execution_count": null,
   "metadata": {
    "collapsed": true
   },
   "outputs": [],
   "source": [
    "spm_results = spm_realign(in_files='ds107.nii', register_to_mean=False)\n",
    "fsl_results = fsl_realign(in_file='ds107.nii', ref_vol=0, save_plots=True)"
   ]
  },
  {
   "cell_type": "code",
   "execution_count": null,
   "metadata": {
    "collapsed": true
   },
   "outputs": [],
   "source": [
    "subplot(211);plot(genfromtxt(fsl_results.outputs.par_file)[:, 3:])\n",
    "subplot(212);plot(genfromtxt(spm_results.outputs.realignment_parameters)[:,:3])"
   ]
  },
  {
   "cell_type": "code",
   "execution_count": null,
   "metadata": {
    "collapsed": true
   },
   "outputs": [],
   "source": [
    "spm_results = spm_realign(in_files='ds107.nii', register_to_mean=False)\n",
    "fsl_results = fsl_realign(in_file='ds107.nii', ref_vol=0, save_plots=True)"
   ]
  },
  {
   "cell_type": "markdown",
   "metadata": {},
   "source": [
    "### More caching"
   ]
  },
  {
   "cell_type": "code",
   "execution_count": null,
   "metadata": {
    "collapsed": true
   },
   "outputs": [],
   "source": [
    "from os.path import abspath as opap\n",
    "files = [opap('../ds107/sub001/BOLD/task001_run001/bold.nii.gz'),\n",
    "         opap('../ds107/sub001/BOLD/task001_run002/bold.nii.gz')]\n",
    "converter = mem.cache(MRIConvert)\n",
    "newfiles = []\n",
    "for idx, fname in enumerate(files):\n",
    "    newfiles.append(converter(in_file=fname,\n",
    "                              out_type='nii').outputs.out_file)"
   ]
  },
  {
   "cell_type": "code",
   "execution_count": null,
   "metadata": {
    "collapsed": true
   },
   "outputs": [],
   "source": [
    "os.chdir(tutorial_dir)"
   ]
  }
 ],
 "metadata": {
  "anaconda-cloud": {},
  "kernelspec": {
   "display_name": "Python [conda root]",
   "language": "python",
   "name": "conda-root-py"
  },
  "language_info": {
   "codemirror_mode": {
    "name": "ipython",
    "version": 2
   },
   "file_extension": ".py",
   "mimetype": "text/x-python",
   "name": "python",
   "nbconvert_exporter": "python",
   "pygments_lexer": "ipython2",
   "version": "2.7.13"
  }
 },
 "nbformat": 4,
 "nbformat_minor": 0
}
