{
 "cells": [
  {
   "cell_type": "markdown",
   "metadata": {
    "deletable": true,
    "editable": true,
    "slideshow": {
     "slide_type": "slide"
    }
   },
   "source": [
    "<img src=\"../static/images/logoNipype_text.png\"  width=\"700\">"
   ]
  },
  {
   "cell_type": "markdown",
   "metadata": {
    "deletable": true,
    "editable": true,
    "slideshow": {
     "slide_type": "fragment"
    }
   },
   "source": [
    "# What is Nipype?\n",
    "\n",
    "- **[Nipype](http://nipype.readthedocs.io/en/latest/)** is an open-source, community-developed software package written in **Python**.\n",
    "- Provides unified way of **interfacing** with heterogeneous neuroimaging software like [SPM](http://www.fil.ion.ucl.ac.uk/spm/), [FSL](http://fsl.fmrib.ox.ac.uk/fsl/fslwiki/), [FreeSurfer](http://surfer.nmr.mgh.harvard.edu/), [AFNI](https://afni.nimh.nih.gov/afni), [ANTS](http://stnava.github.io/ANTs/), [Camino](http://web4.cs.ucl.ac.uk/research/medic/camino/pmwiki/pmwiki.php), [MRtrix](http://www.brain.org.au/software/mrtrix/index.html), [MNE](https://martinos.org/mne/stable/index.html), [Slicer](https://www.slicer.org/) and many more.\n",
    "- Allows users to create **flexible, complex workflows** consisting of multiple processing steps using any software package above\n",
    "- Efficient and optimized computation through **parallel execution** plugins"
   ]
  },
  {
   "cell_type": "markdown",
   "metadata": {
    "deletable": true,
    "editable": true,
    "slideshow": {
     "slide_type": "subslide"
    }
   },
   "source": [
    "# I don't need that, I'm happy with SPM12!\n",
    "\n",
    "I mean, there's no problem with SPM's batch system...\n",
    "\n",
    "<img src=\"../static/images/example_SPM12.png\"  width=\"500\">\n",
    "\n",
    "ok, ok... it get's tiring to have a separate batch script for each subject and MATLAB license issues are sometimes a pain. But hey, the nice looking GUI makes it so easy to use!"
   ]
  },
  {
   "cell_type": "markdown",
   "metadata": {
    "deletable": true,
    "editable": true,
    "slideshow": {
     "slide_type": "subslide"
    }
   },
   "source": [
    "Using SPM12 with Nipype is simpler than any ``matlabbatch`` and it's intuitive to read:\n",
    "\n",
    "```python\n",
    "from nipype.interfaces.spm import Smooth\n",
    "smooth = Smooth()\n",
    "smooth.inputs.in_files = 'functional.nii'\n",
    "smooth.inputs.fwhm = 6\n",
    "smooth.run()\n",
    "```"
   ]
  },
  {
   "cell_type": "markdown",
   "metadata": {
    "deletable": true,
    "editable": true,
    "slideshow": {
     "slide_type": "subslide"
    }
   },
   "source": [
    "# I don't need that, I'm happy with FSL!\n",
    "\n",
    "The GUI might look a bit old fashion but the command line interface gives me all the flexibility I need!\n",
    "\n",
    "<img src=\"../static/images/example_FSL.png\"  width=\"600\">\n",
    "\n",
    "I don't care that it might be more difficult to learn than other neuroimaging softwares. At least it doesn't take me 20 clicks to do simple motion correction. And once you figure out the underlying commands, it's rather simple to script."
   ]
  },
  {
   "cell_type": "markdown",
   "metadata": {
    "deletable": true,
    "editable": true,
    "slideshow": {
     "slide_type": "subslide"
    }
   },
   "source": [
    "Nipype makes using FSL even easier:\n",
    "\n",
    "```python\n",
    "from nipype.interfaces.fsl import MCFLIRT\n",
    "mcflt = MCFLIRT()\n",
    "mcflt.inputs.in_file = 'functional.nii'\n",
    "mcflt.run()\n",
    "```\n",
    "\n",
    "And gives you transparency to what's happening under the hood with one additional line:\n",
    "\n",
    "```python\n",
    "In [1]: mcflt.cmdline\n",
    "Out[1]: 'mcflirt -in functional.nii -out functional_mcf.nii'\n",
    "```"
   ]
  },
  {
   "cell_type": "markdown",
   "metadata": {
    "deletable": true,
    "editable": true,
    "slideshow": {
     "slide_type": "subslide"
    }
   },
   "source": [
    "# I don't need that, I'm happy with FreeSurfer!\n",
    "\n",
    "You and your problems with fMRI data. I'm perfectly happy with FreeSurfer's command line interface. It gives me all I need to do surface based analyses.\n",
    "\n",
    "<img src=\"../static/images/example_Freesurfer.png\"  width=\"600\">\n",
    "\n",
    "Of course, you can run your sequential FreeSurfer scripts as you want. But wouldn't it be nice to optimize computation time by using parallel computation?"
   ]
  },
  {
   "cell_type": "markdown",
   "metadata": {
    "deletable": true,
    "editable": true,
    "slideshow": {
     "slide_type": "subslide"
    }
   },
   "source": [
    "Let's imagine you want to do smoothing on the surface, with **two different FWHM** values, on **both hemispheres** and this on **six subjects**, all in **parallel**? With Nipype this is as simple as that:\n",
    "\n",
    "```python\n",
    "from nipype.interfaces.freesurfer import SurfaceSmooth\n",
    "smoother = SurfaceSmooth()\n",
    "smoother.inputs.in_file = \"{hemi}.func.mgz\"\n",
    "smoother.iterables = [(\"hemi\", ['lh', 'rh']),\n",
    "                      (\"fwhm\", [4, 8]),\n",
    "                      (\"subject_id\", ['sub01', 'sub02', 'sub03',\n",
    "                                      'sub04', 'sub05', 'sub06']),\n",
    "                      ]\n",
    "smoother.run(mode='parallel')\n",
    "```"
   ]
  },
  {
   "cell_type": "markdown",
   "metadata": {
    "deletable": true,
    "editable": true,
    "slideshow": {
     "slide_type": "subslide"
    }
   },
   "source": [
    "# But I like my neuorimaging toolbox\n",
    "\n",
    "- You can keep it! But instead of being stuck in MATLAB with SPM, or having scripting issues with FreeSurfer, ANTs or FSL,..\n",
    "- **Nipype** gives you the possibility to select the algorithms that you prefer from many different sofware packages.\n",
    "- In short, you can have all the advantages without the disadvantage of being stuck with a programming language or software package"
   ]
  },
  {
   "cell_type": "markdown",
   "metadata": {
    "deletable": true,
    "editable": true,
    "slideshow": {
     "slide_type": "slide"
    }
   },
   "source": [
    "# A short Example\n",
    "\n",
    "Let's assume we want to do preprocessing that uses **SPM** for *motion correction*, **FreeSurfer** for *coregistration*, **ANTS** for *normalization* and **FSL** for *smoothing*. Normally this would be a hell of a mess. It would mean switching between multiple scripts in different programming languages with a lot of manual intervention. **Nipype comes to the rescue!**\n",
    "\n",
    "<img src=\"../static/images/nipype_example_graph.png\"  width=\"650\">"
   ]
  },
  {
   "cell_type": "markdown",
   "metadata": {
    "deletable": true,
    "editable": true,
    "slideshow": {
     "slide_type": "subslide"
    }
   },
   "source": [
    "# Code Example\n",
    "\n",
    "The code to create an Nipype workflow like the example before would look something like this:\n",
    "\n",
    "```python\n",
    "# Import modules\n",
    "import nipype\n",
    "from nipype.interfaces.freesurfer import BBRegister\n",
    "from nipype.interfaces.ants       import WarpTimeSeriesImageMultiTransform\n",
    "from nipype.interfaces.fsl        import SUSAN\n",
    "from nipype.interfaces.spm        import Realing\n",
    "\n",
    "# Motion Correction (SPM)\n",
    "realign = Realing(register_to_mean=True)\n",
    "\n",
    "# Coregistration (FreeSurfer)\n",
    "coreg = BBRegister()\n",
    "\n",
    "# Normalization (ANTS)\n",
    "normalize = WarpTimeSeriesImageMultiTransform()\n",
    "\n",
    "# Smoothing (FSL)\n",
    "smooth = SUSAN(fwhm=6.0)\n",
    "\n",
    "\n",
    "```"
   ]
  },
  {
   "cell_type": "markdown",
   "metadata": {
    "slideshow": {
     "slide_type": "subslide"
    }
   },
   "source": [
    "\n",
    "```python\n",
    "# Where can the raw data be found?\n",
    "grabber = nipype.DataGrabber()\n",
    "grabber.inputs.base_directory = '~/experiment_folder/data'\n",
    "grabber.inputs.subject_id = ['subject1', 'subject2', 'subject3']\n",
    "\n",
    "# Where should the output data be stored at?\n",
    "sink = nipype.DataSink()\n",
    "sink.inputs.base_directory = '~/experiment_folder/output_folder'\n",
    "```"
   ]
  },
  {
   "cell_type": "markdown",
   "metadata": {
    "deletable": true,
    "editable": true,
    "slideshow": {
     "slide_type": "subslide"
    }
   },
   "source": [
    "```python\n",
    "# Create a workflow to connect all those nodes\n",
    "preprocflow = nipype.Workflow()\n",
    "\n",
    "# Connect the nodes to each other\n",
    "preprocflow.connect([(grabber   -> realign  ),\n",
    "                     (realign   -> coreg    ),\n",
    "                     (coreg     -> normalize),\n",
    "                     (normalize -> smooth   ),\n",
    "                     (smooth    -> sink     )\n",
    "                     ])\n",
    "\n",
    "# Run the workflow in parallel\n",
    "preprocflow.run(mode='parallel')\n",
    "```"
   ]
  },
  {
   "cell_type": "markdown",
   "metadata": {
    "deletable": true,
    "editable": true,
    "slideshow": {
     "slide_type": "skip"
    }
   },
   "source": [
    "**Important**: This code is a shortened and simplified version of the real Nipype code. But it gives you a good idea of how intuitive it is to use Nipype for your neuroimaging analysis."
   ]
  },
  {
   "cell_type": "markdown",
   "metadata": {
    "deletable": true,
    "editable": true,
    "slideshow": {
     "slide_type": "slide"
    }
   },
   "source": [
    "# So again, what is Nipype?\n",
    "\n",
    "Nipype consists of many parts, but the most important ones are [Interfaces](basic_interfaces.ipynb), the [Workflow Engine](basic_workflow.ipynb)  and the [Execution Plugins](basic_plugins.ipynb):\n",
    "\n",
    "<img src=\"../static/images/nipype_architecture.png\"  width=\"750\">"
   ]
  },
  {
   "cell_type": "markdown",
   "metadata": {
    "deletable": true,
    "editable": true,
    "slideshow": {
     "slide_type": "skip"
    }
   },
   "source": [
    "* **Interface**: Wraps a program or function\n",
    "\n",
    "* **Node/MapNode**: Wraps an `Interface` for use in a Workflow that provides caching and other goodies (e.g., pseudo-sandbox)\n",
    "* **Workflow**: A *graph* or *forest of graphs* whose nodes are of type `Node`, `MapNode` or `Workflow` and whose edges represent data flow\n",
    "\n",
    "* **Plugin**: A component that describes how a `Workflow` should be executed"
   ]
  },
  {
   "cell_type": "markdown",
   "metadata": {
    "deletable": true,
    "editable": true,
    "slideshow": {
     "slide_type": "skip"
    }
   },
   "source": [
    "# Slideshow Mode"
   ]
  },
  {
   "cell_type": "code",
   "execution_count": null,
   "metadata": {
    "collapsed": false,
    "deletable": true,
    "editable": true,
    "slideshow": {
     "slide_type": "skip"
    }
   },
   "outputs": [],
   "source": [
    "!jupyter-nbconvert --to slides introduction_nipype.ipynb --reveal-prefix=reveal.js"
   ]
  },
  {
   "cell_type": "markdown",
   "metadata": {
    "deletable": true,
    "editable": true,
    "slideshow": {
     "slide_type": "skip"
    }
   },
   "source": [
    "<form action=\"introduction_nipype.slides.html\" target=\"_blank\"><input type=\"submit\" value=\"Show Slides\"></form>"
   ]
  }
 ],
 "metadata": {
  "anaconda-cloud": {},
  "kernelspec": {
   "display_name": "Python [default]",
   "language": "python",
   "name": "python2"
  },
  "language_info": {
   "codemirror_mode": {
    "name": "ipython",
    "version": 2
   },
   "file_extension": ".py",
   "mimetype": "text/x-python",
   "name": "python",
   "nbconvert_exporter": "python",
   "pygments_lexer": "ipython2",
   "version": "2.7.13"
  }
 },
 "nbformat": 4,
 "nbformat_minor": 0
}
