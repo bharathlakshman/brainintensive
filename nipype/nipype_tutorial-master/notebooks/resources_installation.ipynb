{
 "cells": [
  {
   "cell_type": "markdown",
   "metadata": {
    "deletable": true,
    "editable": true
   },
   "source": [
    "# 1. Install Nipype\n",
    "\n",
    "Getting Nipype to run on your system is rather straight forward. And there are multiple ways to do the installation:\n",
    "\n",
    "\n",
    "### Using conda\n",
    "\n",
    "If you have [conda](http://conda.pydata.org/docs/index.html), [miniconda](https://conda.io/miniconda.html) or [anaconda](https://www.continuum.io/why-anaconda) on your system, than installing Nipype is just the following command:\n",
    "\n",
    "    conda config --add channels conda-forge\n",
    "    conda install nipype\n",
    "\n",
    "\n",
    "### Using ``pip`` or ``easy_install``\n",
    "\n",
    "Installing Nipype via ``pip`` or ``easy_install`` is as simple as you would imagine.\n",
    "\n",
    "    pip install nipype\n",
    "    \n",
    "or\n",
    "    \n",
    "    easy_install nipype\n",
    "\n",
    "\n",
    "### Using Debian or Ubuntu\n",
    "\n",
    "Installing Nipype on a Debian or Ubuntu system can also be done via ``apt-get``. For this use the following command:\n",
    "\n",
    "    apt-gete install python-nipype\n",
    "\n",
    "\n",
    "### Using Github\n",
    "\n",
    "To make sure that you really have the newest version of Nipype on your system, you can run the pip command with a flag that points to the github repo:\n",
    "\n",
    "    pip install -e git+https://github.com/nipy/nipype#egg=nipype"
   ]
  },
  {
   "cell_type": "markdown",
   "metadata": {
    "deletable": true,
    "editable": true
   },
   "source": [
    "# 2. Install Dependencies\n",
    "\n",
    "For more information about the installation in general and to get a list of recommended software, go to the main page, under: http://nipype.readthedocs.io/en/latest/users/install.html\n",
    "\n",
    "For a more step by step installation guide for additional software dependencies like SPM, FSL, FreeSurfer and ANTs, go to the [Beginner's Guide](http://miykael.github.io/nipype-beginner-s-guide/installation.html).\n"
   ]
  },
  {
   "cell_type": "markdown",
   "metadata": {
    "deletable": true,
    "editable": true
   },
   "source": [
    "# 3. Test Nipype"
   ]
  },
  {
   "cell_type": "code",
   "execution_count": null,
   "metadata": {
    "collapsed": true,
    "deletable": true,
    "editable": true
   },
   "outputs": [],
   "source": [
    "# Import the nipype module\n",
    "import nipype\n",
    "\n",
    "# Run the test: Increase verbosity parameter for more info\n",
    "nipype.test(verbose=0)"
   ]
  },
  {
   "cell_type": "markdown",
   "metadata": {
    "deletable": true,
    "editable": true
   },
   "source": [
    "The test will create a lot of output, but if all goes well you will see an OK at the end:\n",
    "\n",
    "    ----------------------------------------------------------------------\n",
    "    Ran 2497 tests in 68.486s\n",
    "\n",
    "    OK (SKIP=13)\n",
    "\n",
    "The number of tests and time will vary depending on which interfaces you have installed on your system.\n",
    "\n",
    "Don’t worry if some modules are being skipped or some side modules show up as errors or failures during the run. As long as no main modules cause any problems, you’re fine. The number of tests and time will vary depending on which interfaces you have installed on your system. But if you receive an OK, errors=0 and failures=0 then everything is ready."
   ]
  }
 ],
 "metadata": {
  "anaconda-cloud": {},
  "kernelspec": {
   "display_name": "Python [default]",
   "language": "python",
   "name": "python2"
  },
  "language_info": {
   "codemirror_mode": {
    "name": "ipython",
    "version": 2
   },
   "file_extension": ".py",
   "mimetype": "text/x-python",
   "name": "python",
   "nbconvert_exporter": "python",
   "pygments_lexer": "ipython2",
   "version": "2.7.12"
  }
 },
 "nbformat": 4,
 "nbformat_minor": 0
}
